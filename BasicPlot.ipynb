{
 "cells": [
  {
   "cell_type": "code",
   "execution_count": 29,
   "metadata": {},
   "outputs": [
    {
     "data": {
      "text/plain": [
       "null"
      ]
     },
     "execution_count": 29,
     "metadata": {},
     "output_type": "execute_result"
    }
   ],
   "source": [
    "\n",
    "%classpath add jar /homeb/mbt/public_html/stilts/stilts.jar\n",
    "\n",
    "import java.util.logging.Logger;\n",
    "import java.util.logging.Level;\n",
    "\n",
    "Logger.getLogger(\"\").setLevel(Level.SEVERE);"
   ]
  },
  {
   "cell_type": "code",
   "execution_count": 61,
   "metadata": {},
   "outputs": [
    {
     "data": {
      "text/plain": [
       "test.Data"
      ]
     },
     "execution_count": 61,
     "metadata": {},
     "output_type": "execute_result"
    }
   ],
   "source": [
    "package test;\n",
    "\n",
    "import java.io.IOException;\n",
    "import uk.ac.starlink.table.StarTable;\n",
    "import uk.ac.starlink.table.StarTableFactory;\n",
    "\n",
    "public class Data {\n",
    "    public static String dataFile = \"http://andromeda.star.bris.ac.uk/data/tycho-pleiades.fits\";\n",
    "    public static StarTable readTable() throws IOException {\n",
    "        return new StarTableFactory().makeStarTable(dataFile);\n",
    "    }\n",
    "}\n",
    "\n"
   ]
  },
  {
   "cell_type": "code",
   "execution_count": 62,
   "metadata": {},
   "outputs": [
    {
     "data": {
      "text/plain": [
       "[_RAJ2000, _DEJ2000, _r, recno, TYC1, TYC2, TYC3, pmRA, pmDE, BTmag, VTmag, HIP, RA(ICRS), DE(ICRS)]"
      ]
     },
     "execution_count": 62,
     "metadata": {},
     "output_type": "execute_result"
    }
   ],
   "source": [
    "package test;\n",
    "\n",
    "import uk.ac.starlink.table.StarTable;\n",
    "\n",
    "StarTable t = Data.readTable();\n",
    "int ncol = t.getColumnCount();\n",
    "String[] cnames = new String[ ncol ];\n",
    "for ( int ic = 0; ic < t.getColumnCount(); ic++ ) {\n",
    "    cnames[ ic ] = t.getColumnInfo( ic ).getName();\n",
    "}\n",
    "return cnames;"
   ]
  },
  {
   "cell_type": "code",
   "execution_count": 64,
   "metadata": {},
   "outputs": [
    {
     "data": {
      "text/plain": [
       "/tmp/image.png"
      ]
     },
     "execution_count": 64,
     "metadata": {},
     "output_type": "execute_result"
    }
   ],
   "source": [
    "package test;\n",
    "\n",
    "import java.io.File;\n",
    "import java.io.FileOutputStream;\n",
    "import java.io.OutputStream;\n",
    "import javax.swing.Icon;\n",
    "import uk.ac.starlink.ttools.task.MapEnvironment;\n",
    "import uk.ac.starlink.ttools.plot.GraphicExporter;\n",
    "import uk.ac.starlink.ttools.plot2.PlotUtil;\n",
    "import uk.ac.starlink.ttools.plot2.task.PlanePlot2Task;\n",
    "\n",
    "MapEnvironment env = new MapEnvironment();\n",
    "env.setValue(\"in_1\", Data.readTable());\n",
    "env.setValue(\"layer_1\", \"mark\");\n",
    "env.setValue(\"x_1\", \"_RAJ2000\");\n",
    "env.setValue(\"y_1\", \"_DEJ2000\");\n",
    "Icon icon = new PlanePlot2Task().createPlotIcon(env);\n",
    "\n",
    "File outfile = new File(\"/tmp/image.png\");\n",
    "OutputStream out = new FileOutputStream(outfile);\n",
    "GraphicExporter.PNG.exportGraphic(PlotUtil.toPicture(icon), out);\n",
    "out.close();\n",
    "return outfile.getAbsolutePath();\n"
   ]
  },
  {
   "cell_type": "code",
   "execution_count": null,
   "metadata": {},
   "outputs": [],
   "source": []
  }
 ],
 "metadata": {
  "kernelspec": {
   "display_name": "Java",
   "language": "java",
   "name": "java"
  },
  "language_info": {
   "codemirror_mode": "text/x-java",
   "file_extension": ".java",
   "mimetype": "",
   "name": "Java",
   "nbconverter_exporter": "",
   "version": "1.8.0_121"
  }
 },
 "nbformat": 4,
 "nbformat_minor": 2
}
